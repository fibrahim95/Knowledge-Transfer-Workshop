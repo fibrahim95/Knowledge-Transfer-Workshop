{
 "cells": [
  {
   "cell_type": "markdown",
   "metadata": {},
   "source": [
    "## Import library"
   ]
  },
  {
   "cell_type": "code",
   "execution_count": 1,
   "metadata": {},
   "outputs": [],
   "source": [
    "import pandas as pd  # to store data as dataframe\n",
    "import numpy as np  # for numerical calculations such as histogramming\n",
    "import matplotlib.pyplot as plt  # for plotting"
   ]
  },
  {
   "cell_type": "markdown",
   "metadata": {},
   "source": [
    "You can check the version of these packages by checking the __version__ attribute."
   ]
  },
  {
   "cell_type": "code",
   "execution_count": 2,
   "metadata": {},
   "outputs": [
    {
     "data": {
      "text/plain": [
       "'1.22.3'"
      ]
     },
     "execution_count": 2,
     "metadata": {},
     "output_type": "execute_result"
    }
   ],
   "source": [
    "np.__version__"
   ]
  },
  {
   "cell_type": "markdown",
   "metadata": {},
   "source": [
    "Let’s set the random seed that we’ll be using. This reduces the randomness when you re-run the notebook"
   ]
  },
  {
   "cell_type": "code",
   "execution_count": 3,
   "metadata": {},
   "outputs": [],
   "source": [
    "seed_value = 420  # 42 is the answer to life, the universe and everything\n",
    "from numpy.random import seed  # import the function to set the random seed in NumPy\n",
    "\n",
    "seed(seed_value)  # set the seed value for random numbers in NumPy"
   ]
  },
  {
   "cell_type": "markdown",
   "metadata": {},
   "source": [
    "## Dataset Used\n",
    "\n",
    "The dataset we will use in this tutorial is simulated ATLAS data. Each event corresponds to 4 detected leptons: some events correspond to a Higgs Boson decay (signal) and others do not (background). Various physical quantities such as lepton charge and transverse momentum are recorded for each event. The analysis in this tutorial loosely follows the [discovery of the Higgs Boson](https://www.sciencedirect.com/science/article/pii/S037026931200857X)."
   ]
  },
  {
   "cell_type": "code",
   "execution_count": 4,
   "metadata": {},
   "outputs": [],
   "source": [
    "# In this notebook we only process the main signal ggH125_ZZ4lep and the main background llll,\n",
    "# for illustration purposes.\n",
    "# You can add other backgrounds after if you wish.\n",
    "samples = [\"llll\", \"ggH125_ZZ4lep\"]"
   ]
  },
  {
   "cell_type": "markdown",
   "metadata": {},
   "source": [
    "## Exploring the Dataset\n",
    "\n",
    "Here we will format the dataset \n",
    "(x<sub>i</sub>,y<sub>i</sub>) so we can explore! First, we need to open our data set and read it into pandas DataFrames.\n",
    "\n"
   ]
  },
  {
   "cell_type": "code",
   "execution_count": 5,
   "metadata": {},
   "outputs": [],
   "source": [
    "# get data from files\n",
    "\n",
    "DataFrames = {}  # define empty dictionary to hold dataframes\n",
    "for s in samples:  # loop over samples\n",
    "    DataFrames[s] = pd.read_csv(\"4Zlepton/\" + s + \".csv\")  # read .csv file"
   ]
  },
  {
   "cell_type": "code",
   "execution_count": 6,
   "metadata": {},
   "outputs": [
    {
     "data": {
      "text/html": [
       "<div>\n",
       "<style scoped>\n",
       "    .dataframe tbody tr th:only-of-type {\n",
       "        vertical-align: middle;\n",
       "    }\n",
       "\n",
       "    .dataframe tbody tr th {\n",
       "        vertical-align: top;\n",
       "    }\n",
       "\n",
       "    .dataframe thead th {\n",
       "        text-align: right;\n",
       "    }\n",
       "</style>\n",
       "<table border=\"1\" class=\"dataframe\">\n",
       "  <thead>\n",
       "    <tr style=\"text-align: right;\">\n",
       "      <th></th>\n",
       "      <th>entry</th>\n",
       "      <th>lep_pt_0</th>\n",
       "      <th>lep_pt_1</th>\n",
       "      <th>lep_pt_2</th>\n",
       "      <th>lep_pt_3</th>\n",
       "      <th>lep_eta_0</th>\n",
       "      <th>lep_eta_1</th>\n",
       "      <th>lep_eta_2</th>\n",
       "      <th>lep_eta_3</th>\n",
       "      <th>lep_phi_0</th>\n",
       "      <th>...</th>\n",
       "      <th>lep_ptconerel_3</th>\n",
       "      <th>lep_etconerel_0</th>\n",
       "      <th>lep_etconerel_1</th>\n",
       "      <th>lep_etconerel_2</th>\n",
       "      <th>lep_etconerel_3</th>\n",
       "      <th>min_mll</th>\n",
       "      <th>mZ1</th>\n",
       "      <th>mZ2</th>\n",
       "      <th>mllll</th>\n",
       "      <th>totalWeight</th>\n",
       "    </tr>\n",
       "  </thead>\n",
       "  <tbody>\n",
       "    <tr>\n",
       "      <th>0</th>\n",
       "      <td>0</td>\n",
       "      <td>51.905457</td>\n",
       "      <td>41.248570</td>\n",
       "      <td>16.397670</td>\n",
       "      <td>7.471228</td>\n",
       "      <td>-0.925709</td>\n",
       "      <td>-0.823695</td>\n",
       "      <td>-0.486417</td>\n",
       "      <td>0.266718</td>\n",
       "      <td>-2.774290</td>\n",
       "      <td>...</td>\n",
       "      <td>0.000000</td>\n",
       "      <td>-0.005114</td>\n",
       "      <td>0.034386</td>\n",
       "      <td>0.071266</td>\n",
       "      <td>-0.115843</td>\n",
       "      <td>9.953831</td>\n",
       "      <td>92.628607</td>\n",
       "      <td>23.311568</td>\n",
       "      <td>122.689157</td>\n",
       "      <td>0.000018</td>\n",
       "    </tr>\n",
       "    <tr>\n",
       "      <th>1</th>\n",
       "      <td>1</td>\n",
       "      <td>41.430645</td>\n",
       "      <td>40.307168</td>\n",
       "      <td>16.133789</td>\n",
       "      <td>7.481857</td>\n",
       "      <td>-1.233182</td>\n",
       "      <td>-0.396434</td>\n",
       "      <td>-0.541508</td>\n",
       "      <td>-0.302179</td>\n",
       "      <td>0.449031</td>\n",
       "      <td>...</td>\n",
       "      <td>0.151779</td>\n",
       "      <td>-0.030370</td>\n",
       "      <td>0.017931</td>\n",
       "      <td>0.030408</td>\n",
       "      <td>-0.120944</td>\n",
       "      <td>17.821408</td>\n",
       "      <td>86.697751</td>\n",
       "      <td>17.821408</td>\n",
       "      <td>113.659172</td>\n",
       "      <td>0.000034</td>\n",
       "    </tr>\n",
       "    <tr>\n",
       "      <th>2</th>\n",
       "      <td>2</td>\n",
       "      <td>33.646711</td>\n",
       "      <td>27.313271</td>\n",
       "      <td>20.035949</td>\n",
       "      <td>16.472641</td>\n",
       "      <td>-0.032324</td>\n",
       "      <td>-0.044153</td>\n",
       "      <td>0.067013</td>\n",
       "      <td>1.859531</td>\n",
       "      <td>-2.077223</td>\n",
       "      <td>...</td>\n",
       "      <td>0.000000</td>\n",
       "      <td>0.016144</td>\n",
       "      <td>-0.012675</td>\n",
       "      <td>0.101923</td>\n",
       "      <td>0.017772</td>\n",
       "      <td>32.122807</td>\n",
       "      <td>62.627431</td>\n",
       "      <td>32.122807</td>\n",
       "      <td>125.399958</td>\n",
       "      <td>0.000040</td>\n",
       "    </tr>\n",
       "    <tr>\n",
       "      <th>3</th>\n",
       "      <td>3</td>\n",
       "      <td>77.118562</td>\n",
       "      <td>27.845740</td>\n",
       "      <td>17.726541</td>\n",
       "      <td>14.714521</td>\n",
       "      <td>0.514764</td>\n",
       "      <td>0.845311</td>\n",
       "      <td>2.189158</td>\n",
       "      <td>0.179711</td>\n",
       "      <td>0.115437</td>\n",
       "      <td>...</td>\n",
       "      <td>0.000000</td>\n",
       "      <td>-0.005004</td>\n",
       "      <td>-0.007781</td>\n",
       "      <td>0.000000</td>\n",
       "      <td>0.034991</td>\n",
       "      <td>29.143731</td>\n",
       "      <td>84.535069</td>\n",
       "      <td>29.143731</td>\n",
       "      <td>123.645105</td>\n",
       "      <td>0.000059</td>\n",
       "    </tr>\n",
       "    <tr>\n",
       "      <th>4</th>\n",
       "      <td>4</td>\n",
       "      <td>161.909219</td>\n",
       "      <td>53.367754</td>\n",
       "      <td>25.596689</td>\n",
       "      <td>18.864479</td>\n",
       "      <td>-1.037354</td>\n",
       "      <td>-0.821728</td>\n",
       "      <td>-1.261883</td>\n",
       "      <td>0.126195</td>\n",
       "      <td>-0.161717</td>\n",
       "      <td>...</td>\n",
       "      <td>0.000000</td>\n",
       "      <td>0.018625</td>\n",
       "      <td>-0.000264</td>\n",
       "      <td>-0.001246</td>\n",
       "      <td>-0.002172</td>\n",
       "      <td>39.159591</td>\n",
       "      <td>68.958081</td>\n",
       "      <td>48.500839</td>\n",
       "      <td>123.518264</td>\n",
       "      <td>0.000078</td>\n",
       "    </tr>\n",
       "    <tr>\n",
       "      <th>...</th>\n",
       "      <td>...</td>\n",
       "      <td>...</td>\n",
       "      <td>...</td>\n",
       "      <td>...</td>\n",
       "      <td>...</td>\n",
       "      <td>...</td>\n",
       "      <td>...</td>\n",
       "      <td>...</td>\n",
       "      <td>...</td>\n",
       "      <td>...</td>\n",
       "      <td>...</td>\n",
       "      <td>...</td>\n",
       "      <td>...</td>\n",
       "      <td>...</td>\n",
       "      <td>...</td>\n",
       "      <td>...</td>\n",
       "      <td>...</td>\n",
       "      <td>...</td>\n",
       "      <td>...</td>\n",
       "      <td>...</td>\n",
       "      <td>...</td>\n",
       "    </tr>\n",
       "    <tr>\n",
       "      <th>164711</th>\n",
       "      <td>164711</td>\n",
       "      <td>32.143482</td>\n",
       "      <td>24.158068</td>\n",
       "      <td>17.203547</td>\n",
       "      <td>14.358152</td>\n",
       "      <td>-1.003832</td>\n",
       "      <td>0.609448</td>\n",
       "      <td>0.876340</td>\n",
       "      <td>1.039745</td>\n",
       "      <td>-0.417631</td>\n",
       "      <td>...</td>\n",
       "      <td>0.000000</td>\n",
       "      <td>-0.020921</td>\n",
       "      <td>0.040304</td>\n",
       "      <td>-0.001333</td>\n",
       "      <td>0.010283</td>\n",
       "      <td>25.926057</td>\n",
       "      <td>62.697352</td>\n",
       "      <td>39.612517</td>\n",
       "      <td>123.352912</td>\n",
       "      <td>0.000019</td>\n",
       "    </tr>\n",
       "    <tr>\n",
       "      <th>164712</th>\n",
       "      <td>164712</td>\n",
       "      <td>39.488273</td>\n",
       "      <td>33.694094</td>\n",
       "      <td>32.709998</td>\n",
       "      <td>14.797520</td>\n",
       "      <td>0.184790</td>\n",
       "      <td>0.799441</td>\n",
       "      <td>-0.454989</td>\n",
       "      <td>-1.167309</td>\n",
       "      <td>-0.747386</td>\n",
       "      <td>...</td>\n",
       "      <td>0.000000</td>\n",
       "      <td>0.040552</td>\n",
       "      <td>-0.000592</td>\n",
       "      <td>0.018882</td>\n",
       "      <td>-0.019414</td>\n",
       "      <td>30.654450</td>\n",
       "      <td>56.876117</td>\n",
       "      <td>30.654450</td>\n",
       "      <td>122.652688</td>\n",
       "      <td>0.000054</td>\n",
       "    </tr>\n",
       "    <tr>\n",
       "      <th>164713</th>\n",
       "      <td>164713</td>\n",
       "      <td>63.284211</td>\n",
       "      <td>22.707840</td>\n",
       "      <td>15.635994</td>\n",
       "      <td>14.873250</td>\n",
       "      <td>0.935591</td>\n",
       "      <td>0.184483</td>\n",
       "      <td>0.174508</td>\n",
       "      <td>2.128866</td>\n",
       "      <td>-1.503719</td>\n",
       "      <td>...</td>\n",
       "      <td>0.000000</td>\n",
       "      <td>0.010497</td>\n",
       "      <td>-0.015776</td>\n",
       "      <td>-0.022911</td>\n",
       "      <td>-0.003570</td>\n",
       "      <td>30.952590</td>\n",
       "      <td>66.649322</td>\n",
       "      <td>37.686620</td>\n",
       "      <td>124.312299</td>\n",
       "      <td>0.000071</td>\n",
       "    </tr>\n",
       "    <tr>\n",
       "      <th>164714</th>\n",
       "      <td>164714</td>\n",
       "      <td>52.538805</td>\n",
       "      <td>40.321457</td>\n",
       "      <td>25.766850</td>\n",
       "      <td>19.381920</td>\n",
       "      <td>0.880250</td>\n",
       "      <td>1.205615</td>\n",
       "      <td>1.701138</td>\n",
       "      <td>0.853039</td>\n",
       "      <td>-2.060255</td>\n",
       "      <td>...</td>\n",
       "      <td>0.000000</td>\n",
       "      <td>0.017046</td>\n",
       "      <td>-0.013661</td>\n",
       "      <td>0.057185</td>\n",
       "      <td>0.000224</td>\n",
       "      <td>19.868087</td>\n",
       "      <td>88.412652</td>\n",
       "      <td>19.868087</td>\n",
       "      <td>124.105421</td>\n",
       "      <td>0.000060</td>\n",
       "    </tr>\n",
       "    <tr>\n",
       "      <th>164715</th>\n",
       "      <td>164715</td>\n",
       "      <td>58.730094</td>\n",
       "      <td>35.112828</td>\n",
       "      <td>12.265971</td>\n",
       "      <td>11.089536</td>\n",
       "      <td>-1.204163</td>\n",
       "      <td>-1.788791</td>\n",
       "      <td>-0.268844</td>\n",
       "      <td>-0.827986</td>\n",
       "      <td>1.666449</td>\n",
       "      <td>...</td>\n",
       "      <td>0.000000</td>\n",
       "      <td>-0.006048</td>\n",
       "      <td>-0.008303</td>\n",
       "      <td>0.210177</td>\n",
       "      <td>-0.064255</td>\n",
       "      <td>23.934566</td>\n",
       "      <td>94.729962</td>\n",
       "      <td>23.934566</td>\n",
       "      <td>127.972664</td>\n",
       "      <td>0.000064</td>\n",
       "    </tr>\n",
       "  </tbody>\n",
       "</table>\n",
       "<p>164716 rows × 46 columns</p>\n",
       "</div>"
      ],
      "text/plain": [
       "         entry    lep_pt_0   lep_pt_1   lep_pt_2   lep_pt_3  lep_eta_0  \\\n",
       "0            0   51.905457  41.248570  16.397670   7.471228  -0.925709   \n",
       "1            1   41.430645  40.307168  16.133789   7.481857  -1.233182   \n",
       "2            2   33.646711  27.313271  20.035949  16.472641  -0.032324   \n",
       "3            3   77.118562  27.845740  17.726541  14.714521   0.514764   \n",
       "4            4  161.909219  53.367754  25.596689  18.864479  -1.037354   \n",
       "...        ...         ...        ...        ...        ...        ...   \n",
       "164711  164711   32.143482  24.158068  17.203547  14.358152  -1.003832   \n",
       "164712  164712   39.488273  33.694094  32.709998  14.797520   0.184790   \n",
       "164713  164713   63.284211  22.707840  15.635994  14.873250   0.935591   \n",
       "164714  164714   52.538805  40.321457  25.766850  19.381920   0.880250   \n",
       "164715  164715   58.730094  35.112828  12.265971  11.089536  -1.204163   \n",
       "\n",
       "        lep_eta_1  lep_eta_2  lep_eta_3  lep_phi_0  ...  lep_ptconerel_3  \\\n",
       "0       -0.823695  -0.486417   0.266718  -2.774290  ...         0.000000   \n",
       "1       -0.396434  -0.541508  -0.302179   0.449031  ...         0.151779   \n",
       "2       -0.044153   0.067013   1.859531  -2.077223  ...         0.000000   \n",
       "3        0.845311   2.189158   0.179711   0.115437  ...         0.000000   \n",
       "4       -0.821728  -1.261883   0.126195  -0.161717  ...         0.000000   \n",
       "...           ...        ...        ...        ...  ...              ...   \n",
       "164711   0.609448   0.876340   1.039745  -0.417631  ...         0.000000   \n",
       "164712   0.799441  -0.454989  -1.167309  -0.747386  ...         0.000000   \n",
       "164713   0.184483   0.174508   2.128866  -1.503719  ...         0.000000   \n",
       "164714   1.205615   1.701138   0.853039  -2.060255  ...         0.000000   \n",
       "164715  -1.788791  -0.268844  -0.827986   1.666449  ...         0.000000   \n",
       "\n",
       "        lep_etconerel_0  lep_etconerel_1  lep_etconerel_2  lep_etconerel_3  \\\n",
       "0             -0.005114         0.034386         0.071266        -0.115843   \n",
       "1             -0.030370         0.017931         0.030408        -0.120944   \n",
       "2              0.016144        -0.012675         0.101923         0.017772   \n",
       "3             -0.005004        -0.007781         0.000000         0.034991   \n",
       "4              0.018625        -0.000264        -0.001246        -0.002172   \n",
       "...                 ...              ...              ...              ...   \n",
       "164711        -0.020921         0.040304        -0.001333         0.010283   \n",
       "164712         0.040552        -0.000592         0.018882        -0.019414   \n",
       "164713         0.010497        -0.015776        -0.022911        -0.003570   \n",
       "164714         0.017046        -0.013661         0.057185         0.000224   \n",
       "164715        -0.006048        -0.008303         0.210177        -0.064255   \n",
       "\n",
       "          min_mll        mZ1        mZ2       mllll  totalWeight  \n",
       "0        9.953831  92.628607  23.311568  122.689157     0.000018  \n",
       "1       17.821408  86.697751  17.821408  113.659172     0.000034  \n",
       "2       32.122807  62.627431  32.122807  125.399958     0.000040  \n",
       "3       29.143731  84.535069  29.143731  123.645105     0.000059  \n",
       "4       39.159591  68.958081  48.500839  123.518264     0.000078  \n",
       "...           ...        ...        ...         ...          ...  \n",
       "164711  25.926057  62.697352  39.612517  123.352912     0.000019  \n",
       "164712  30.654450  56.876117  30.654450  122.652688     0.000054  \n",
       "164713  30.952590  66.649322  37.686620  124.312299     0.000071  \n",
       "164714  19.868087  88.412652  19.868087  124.105421     0.000060  \n",
       "164715  23.934566  94.729962  23.934566  127.972664     0.000064  \n",
       "\n",
       "[164716 rows x 46 columns]"
      ]
     },
     "execution_count": 6,
     "metadata": {},
     "output_type": "execute_result"
    }
   ],
   "source": [
    "DataFrames[\"ggH125_ZZ4lep\"]  # print signal data to take a look"
   ]
  },
  {
   "cell_type": "markdown",
   "metadata": {},
   "source": [
    "Before diving into machine learning, think about whether there are any things you should do to clean up your data. In the case of this Higgs analysis, Higgs boson decays should produce 4 electrons or 4 muons or 2 electrons and 2 muons. Let’s define a function to keep only events which produce 4 electrons or 4 muons or 2 electrons and 2 muons."
   ]
  },
  {
   "cell_type": "code",
   "execution_count": 7,
   "metadata": {},
   "outputs": [],
   "source": [
    "# cut on lepton type\n",
    "def cut_lep_type(lep_type_0, lep_type_1, lep_type_2, lep_type_3):\n",
    "    # first lepton is [0], 2nd lepton is [1] etc\n",
    "    # for an electron lep_type is 11\n",
    "    # for a muon lep_type is 13\n",
    "    # only want to keep events where one of eeee, mumumumu, eemumu\n",
    "    sum_lep_type = lep_type_0 + lep_type_1 + lep_type_2 + lep_type_3\n",
    "    if sum_lep_type == 44 or sum_lep_type == 48 or sum_lep_type == 52:\n",
    "        return True\n",
    "    else:\n",
    "        return False\n",
    "\n",
    "# cut on lepton charge\n",
    "def cut_lep_charge(lep_charge_0,lep_charge_1,lep_charge_2,lep_charge_3):\n",
    "# only want to keep events where sum of lepton charges is 0\n",
    "    sum_lep_charge = lep_charge_0 + lep_charge_1 + lep_charge_2 + lep_charge_3\n",
    "    if sum_lep_charge==0: return True\n",
    "    else: return False"
   ]
  },
  {
   "cell_type": "markdown",
   "metadata": {},
   "source": [
    "We then need to apply this function on our DataFrames."
   ]
  },
  {
   "cell_type": "code",
   "execution_count": 8,
   "metadata": {},
   "outputs": [],
   "source": [
    "# apply cut on lepton type\n",
    "for s in samples:\n",
    "    # cut on lepton type using the function cut_lep_type defined above\n",
    "    DataFrames[s] = DataFrames[s][\n",
    "        np.vectorize(cut_lep_type)(\n",
    "            DataFrames[s].lep_type_0,\n",
    "            DataFrames[s].lep_type_1,\n",
    "            DataFrames[s].lep_type_2,\n",
    "            DataFrames[s].lep_type_3,\n",
    "        )\n",
    "    ]"
   ]
  },
  {
   "cell_type": "code",
   "execution_count": 9,
   "metadata": {},
   "outputs": [
    {
     "data": {
      "text/html": [
       "<div>\n",
       "<style scoped>\n",
       "    .dataframe tbody tr th:only-of-type {\n",
       "        vertical-align: middle;\n",
       "    }\n",
       "\n",
       "    .dataframe tbody tr th {\n",
       "        vertical-align: top;\n",
       "    }\n",
       "\n",
       "    .dataframe thead th {\n",
       "        text-align: right;\n",
       "    }\n",
       "</style>\n",
       "<table border=\"1\" class=\"dataframe\">\n",
       "  <thead>\n",
       "    <tr style=\"text-align: right;\">\n",
       "      <th></th>\n",
       "      <th>entry</th>\n",
       "      <th>lep_pt_0</th>\n",
       "      <th>lep_pt_1</th>\n",
       "      <th>lep_pt_2</th>\n",
       "      <th>lep_pt_3</th>\n",
       "      <th>lep_eta_0</th>\n",
       "      <th>lep_eta_1</th>\n",
       "      <th>lep_eta_2</th>\n",
       "      <th>lep_eta_3</th>\n",
       "      <th>lep_phi_0</th>\n",
       "      <th>...</th>\n",
       "      <th>lep_ptconerel_3</th>\n",
       "      <th>lep_etconerel_0</th>\n",
       "      <th>lep_etconerel_1</th>\n",
       "      <th>lep_etconerel_2</th>\n",
       "      <th>lep_etconerel_3</th>\n",
       "      <th>min_mll</th>\n",
       "      <th>mZ1</th>\n",
       "      <th>mZ2</th>\n",
       "      <th>mllll</th>\n",
       "      <th>totalWeight</th>\n",
       "    </tr>\n",
       "  </thead>\n",
       "  <tbody>\n",
       "    <tr>\n",
       "      <th>0</th>\n",
       "      <td>0</td>\n",
       "      <td>51.905457</td>\n",
       "      <td>41.248570</td>\n",
       "      <td>16.397670</td>\n",
       "      <td>7.471228</td>\n",
       "      <td>-0.925709</td>\n",
       "      <td>-0.823695</td>\n",
       "      <td>-0.486417</td>\n",
       "      <td>0.266718</td>\n",
       "      <td>-2.774290</td>\n",
       "      <td>...</td>\n",
       "      <td>0.000000</td>\n",
       "      <td>-0.005114</td>\n",
       "      <td>0.034386</td>\n",
       "      <td>0.071266</td>\n",
       "      <td>-0.115843</td>\n",
       "      <td>9.953831</td>\n",
       "      <td>92.628607</td>\n",
       "      <td>23.311568</td>\n",
       "      <td>122.689157</td>\n",
       "      <td>0.000018</td>\n",
       "    </tr>\n",
       "    <tr>\n",
       "      <th>1</th>\n",
       "      <td>1</td>\n",
       "      <td>41.430645</td>\n",
       "      <td>40.307168</td>\n",
       "      <td>16.133789</td>\n",
       "      <td>7.481857</td>\n",
       "      <td>-1.233182</td>\n",
       "      <td>-0.396434</td>\n",
       "      <td>-0.541508</td>\n",
       "      <td>-0.302179</td>\n",
       "      <td>0.449031</td>\n",
       "      <td>...</td>\n",
       "      <td>0.151779</td>\n",
       "      <td>-0.030370</td>\n",
       "      <td>0.017931</td>\n",
       "      <td>0.030408</td>\n",
       "      <td>-0.120944</td>\n",
       "      <td>17.821408</td>\n",
       "      <td>86.697751</td>\n",
       "      <td>17.821408</td>\n",
       "      <td>113.659172</td>\n",
       "      <td>0.000034</td>\n",
       "    </tr>\n",
       "    <tr>\n",
       "      <th>2</th>\n",
       "      <td>2</td>\n",
       "      <td>33.646711</td>\n",
       "      <td>27.313271</td>\n",
       "      <td>20.035949</td>\n",
       "      <td>16.472641</td>\n",
       "      <td>-0.032324</td>\n",
       "      <td>-0.044153</td>\n",
       "      <td>0.067013</td>\n",
       "      <td>1.859531</td>\n",
       "      <td>-2.077223</td>\n",
       "      <td>...</td>\n",
       "      <td>0.000000</td>\n",
       "      <td>0.016144</td>\n",
       "      <td>-0.012675</td>\n",
       "      <td>0.101923</td>\n",
       "      <td>0.017772</td>\n",
       "      <td>32.122807</td>\n",
       "      <td>62.627431</td>\n",
       "      <td>32.122807</td>\n",
       "      <td>125.399958</td>\n",
       "      <td>0.000040</td>\n",
       "    </tr>\n",
       "    <tr>\n",
       "      <th>3</th>\n",
       "      <td>3</td>\n",
       "      <td>77.118562</td>\n",
       "      <td>27.845740</td>\n",
       "      <td>17.726541</td>\n",
       "      <td>14.714521</td>\n",
       "      <td>0.514764</td>\n",
       "      <td>0.845311</td>\n",
       "      <td>2.189158</td>\n",
       "      <td>0.179711</td>\n",
       "      <td>0.115437</td>\n",
       "      <td>...</td>\n",
       "      <td>0.000000</td>\n",
       "      <td>-0.005004</td>\n",
       "      <td>-0.007781</td>\n",
       "      <td>0.000000</td>\n",
       "      <td>0.034991</td>\n",
       "      <td>29.143731</td>\n",
       "      <td>84.535069</td>\n",
       "      <td>29.143731</td>\n",
       "      <td>123.645105</td>\n",
       "      <td>0.000059</td>\n",
       "    </tr>\n",
       "    <tr>\n",
       "      <th>4</th>\n",
       "      <td>4</td>\n",
       "      <td>161.909219</td>\n",
       "      <td>53.367754</td>\n",
       "      <td>25.596689</td>\n",
       "      <td>18.864479</td>\n",
       "      <td>-1.037354</td>\n",
       "      <td>-0.821728</td>\n",
       "      <td>-1.261883</td>\n",
       "      <td>0.126195</td>\n",
       "      <td>-0.161717</td>\n",
       "      <td>...</td>\n",
       "      <td>0.000000</td>\n",
       "      <td>0.018625</td>\n",
       "      <td>-0.000264</td>\n",
       "      <td>-0.001246</td>\n",
       "      <td>-0.002172</td>\n",
       "      <td>39.159591</td>\n",
       "      <td>68.958081</td>\n",
       "      <td>48.500839</td>\n",
       "      <td>123.518264</td>\n",
       "      <td>0.000078</td>\n",
       "    </tr>\n",
       "    <tr>\n",
       "      <th>...</th>\n",
       "      <td>...</td>\n",
       "      <td>...</td>\n",
       "      <td>...</td>\n",
       "      <td>...</td>\n",
       "      <td>...</td>\n",
       "      <td>...</td>\n",
       "      <td>...</td>\n",
       "      <td>...</td>\n",
       "      <td>...</td>\n",
       "      <td>...</td>\n",
       "      <td>...</td>\n",
       "      <td>...</td>\n",
       "      <td>...</td>\n",
       "      <td>...</td>\n",
       "      <td>...</td>\n",
       "      <td>...</td>\n",
       "      <td>...</td>\n",
       "      <td>...</td>\n",
       "      <td>...</td>\n",
       "      <td>...</td>\n",
       "      <td>...</td>\n",
       "    </tr>\n",
       "    <tr>\n",
       "      <th>164711</th>\n",
       "      <td>164711</td>\n",
       "      <td>32.143482</td>\n",
       "      <td>24.158068</td>\n",
       "      <td>17.203547</td>\n",
       "      <td>14.358152</td>\n",
       "      <td>-1.003832</td>\n",
       "      <td>0.609448</td>\n",
       "      <td>0.876340</td>\n",
       "      <td>1.039745</td>\n",
       "      <td>-0.417631</td>\n",
       "      <td>...</td>\n",
       "      <td>0.000000</td>\n",
       "      <td>-0.020921</td>\n",
       "      <td>0.040304</td>\n",
       "      <td>-0.001333</td>\n",
       "      <td>0.010283</td>\n",
       "      <td>25.926057</td>\n",
       "      <td>62.697352</td>\n",
       "      <td>39.612517</td>\n",
       "      <td>123.352912</td>\n",
       "      <td>0.000019</td>\n",
       "    </tr>\n",
       "    <tr>\n",
       "      <th>164712</th>\n",
       "      <td>164712</td>\n",
       "      <td>39.488273</td>\n",
       "      <td>33.694094</td>\n",
       "      <td>32.709998</td>\n",
       "      <td>14.797520</td>\n",
       "      <td>0.184790</td>\n",
       "      <td>0.799441</td>\n",
       "      <td>-0.454989</td>\n",
       "      <td>-1.167309</td>\n",
       "      <td>-0.747386</td>\n",
       "      <td>...</td>\n",
       "      <td>0.000000</td>\n",
       "      <td>0.040552</td>\n",
       "      <td>-0.000592</td>\n",
       "      <td>0.018882</td>\n",
       "      <td>-0.019414</td>\n",
       "      <td>30.654450</td>\n",
       "      <td>56.876117</td>\n",
       "      <td>30.654450</td>\n",
       "      <td>122.652688</td>\n",
       "      <td>0.000054</td>\n",
       "    </tr>\n",
       "    <tr>\n",
       "      <th>164713</th>\n",
       "      <td>164713</td>\n",
       "      <td>63.284211</td>\n",
       "      <td>22.707840</td>\n",
       "      <td>15.635994</td>\n",
       "      <td>14.873250</td>\n",
       "      <td>0.935591</td>\n",
       "      <td>0.184483</td>\n",
       "      <td>0.174508</td>\n",
       "      <td>2.128866</td>\n",
       "      <td>-1.503719</td>\n",
       "      <td>...</td>\n",
       "      <td>0.000000</td>\n",
       "      <td>0.010497</td>\n",
       "      <td>-0.015776</td>\n",
       "      <td>-0.022911</td>\n",
       "      <td>-0.003570</td>\n",
       "      <td>30.952590</td>\n",
       "      <td>66.649322</td>\n",
       "      <td>37.686620</td>\n",
       "      <td>124.312299</td>\n",
       "      <td>0.000071</td>\n",
       "    </tr>\n",
       "    <tr>\n",
       "      <th>164714</th>\n",
       "      <td>164714</td>\n",
       "      <td>52.538805</td>\n",
       "      <td>40.321457</td>\n",
       "      <td>25.766850</td>\n",
       "      <td>19.381920</td>\n",
       "      <td>0.880250</td>\n",
       "      <td>1.205615</td>\n",
       "      <td>1.701138</td>\n",
       "      <td>0.853039</td>\n",
       "      <td>-2.060255</td>\n",
       "      <td>...</td>\n",
       "      <td>0.000000</td>\n",
       "      <td>0.017046</td>\n",
       "      <td>-0.013661</td>\n",
       "      <td>0.057185</td>\n",
       "      <td>0.000224</td>\n",
       "      <td>19.868087</td>\n",
       "      <td>88.412652</td>\n",
       "      <td>19.868087</td>\n",
       "      <td>124.105421</td>\n",
       "      <td>0.000060</td>\n",
       "    </tr>\n",
       "    <tr>\n",
       "      <th>164715</th>\n",
       "      <td>164715</td>\n",
       "      <td>58.730094</td>\n",
       "      <td>35.112828</td>\n",
       "      <td>12.265971</td>\n",
       "      <td>11.089536</td>\n",
       "      <td>-1.204163</td>\n",
       "      <td>-1.788791</td>\n",
       "      <td>-0.268844</td>\n",
       "      <td>-0.827986</td>\n",
       "      <td>1.666449</td>\n",
       "      <td>...</td>\n",
       "      <td>0.000000</td>\n",
       "      <td>-0.006048</td>\n",
       "      <td>-0.008303</td>\n",
       "      <td>0.210177</td>\n",
       "      <td>-0.064255</td>\n",
       "      <td>23.934566</td>\n",
       "      <td>94.729962</td>\n",
       "      <td>23.934566</td>\n",
       "      <td>127.972664</td>\n",
       "      <td>0.000064</td>\n",
       "    </tr>\n",
       "  </tbody>\n",
       "</table>\n",
       "<p>163754 rows × 46 columns</p>\n",
       "</div>"
      ],
      "text/plain": [
       "         entry    lep_pt_0   lep_pt_1   lep_pt_2   lep_pt_3  lep_eta_0  \\\n",
       "0            0   51.905457  41.248570  16.397670   7.471228  -0.925709   \n",
       "1            1   41.430645  40.307168  16.133789   7.481857  -1.233182   \n",
       "2            2   33.646711  27.313271  20.035949  16.472641  -0.032324   \n",
       "3            3   77.118562  27.845740  17.726541  14.714521   0.514764   \n",
       "4            4  161.909219  53.367754  25.596689  18.864479  -1.037354   \n",
       "...        ...         ...        ...        ...        ...        ...   \n",
       "164711  164711   32.143482  24.158068  17.203547  14.358152  -1.003832   \n",
       "164712  164712   39.488273  33.694094  32.709998  14.797520   0.184790   \n",
       "164713  164713   63.284211  22.707840  15.635994  14.873250   0.935591   \n",
       "164714  164714   52.538805  40.321457  25.766850  19.381920   0.880250   \n",
       "164715  164715   58.730094  35.112828  12.265971  11.089536  -1.204163   \n",
       "\n",
       "        lep_eta_1  lep_eta_2  lep_eta_3  lep_phi_0  ...  lep_ptconerel_3  \\\n",
       "0       -0.823695  -0.486417   0.266718  -2.774290  ...         0.000000   \n",
       "1       -0.396434  -0.541508  -0.302179   0.449031  ...         0.151779   \n",
       "2       -0.044153   0.067013   1.859531  -2.077223  ...         0.000000   \n",
       "3        0.845311   2.189158   0.179711   0.115437  ...         0.000000   \n",
       "4       -0.821728  -1.261883   0.126195  -0.161717  ...         0.000000   \n",
       "...           ...        ...        ...        ...  ...              ...   \n",
       "164711   0.609448   0.876340   1.039745  -0.417631  ...         0.000000   \n",
       "164712   0.799441  -0.454989  -1.167309  -0.747386  ...         0.000000   \n",
       "164713   0.184483   0.174508   2.128866  -1.503719  ...         0.000000   \n",
       "164714   1.205615   1.701138   0.853039  -2.060255  ...         0.000000   \n",
       "164715  -1.788791  -0.268844  -0.827986   1.666449  ...         0.000000   \n",
       "\n",
       "        lep_etconerel_0  lep_etconerel_1  lep_etconerel_2  lep_etconerel_3  \\\n",
       "0             -0.005114         0.034386         0.071266        -0.115843   \n",
       "1             -0.030370         0.017931         0.030408        -0.120944   \n",
       "2              0.016144        -0.012675         0.101923         0.017772   \n",
       "3             -0.005004        -0.007781         0.000000         0.034991   \n",
       "4              0.018625        -0.000264        -0.001246        -0.002172   \n",
       "...                 ...              ...              ...              ...   \n",
       "164711        -0.020921         0.040304        -0.001333         0.010283   \n",
       "164712         0.040552        -0.000592         0.018882        -0.019414   \n",
       "164713         0.010497        -0.015776        -0.022911        -0.003570   \n",
       "164714         0.017046        -0.013661         0.057185         0.000224   \n",
       "164715        -0.006048        -0.008303         0.210177        -0.064255   \n",
       "\n",
       "          min_mll        mZ1        mZ2       mllll  totalWeight  \n",
       "0        9.953831  92.628607  23.311568  122.689157     0.000018  \n",
       "1       17.821408  86.697751  17.821408  113.659172     0.000034  \n",
       "2       32.122807  62.627431  32.122807  125.399958     0.000040  \n",
       "3       29.143731  84.535069  29.143731  123.645105     0.000059  \n",
       "4       39.159591  68.958081  48.500839  123.518264     0.000078  \n",
       "...           ...        ...        ...         ...          ...  \n",
       "164711  25.926057  62.697352  39.612517  123.352912     0.000019  \n",
       "164712  30.654450  56.876117  30.654450  122.652688     0.000054  \n",
       "164713  30.952590  66.649322  37.686620  124.312299     0.000071  \n",
       "164714  19.868087  88.412652  19.868087  124.105421     0.000060  \n",
       "164715  23.934566  94.729962  23.934566  127.972664     0.000064  \n",
       "\n",
       "[163754 rows x 46 columns]"
      ]
     },
     "execution_count": 9,
     "metadata": {},
     "output_type": "execute_result"
    }
   ],
   "source": [
    "DataFrames[\"ggH125_ZZ4lep\"]  # print signal data to take a look"
   ]
  },
  {
   "cell_type": "code",
   "execution_count": 10,
   "metadata": {},
   "outputs": [
    {
     "data": {
      "text/html": [
       "<div>\n",
       "<style scoped>\n",
       "    .dataframe tbody tr th:only-of-type {\n",
       "        vertical-align: middle;\n",
       "    }\n",
       "\n",
       "    .dataframe tbody tr th {\n",
       "        vertical-align: top;\n",
       "    }\n",
       "\n",
       "    .dataframe thead th {\n",
       "        text-align: right;\n",
       "    }\n",
       "</style>\n",
       "<table border=\"1\" class=\"dataframe\">\n",
       "  <thead>\n",
       "    <tr style=\"text-align: right;\">\n",
       "      <th></th>\n",
       "      <th>entry</th>\n",
       "      <th>lep_pt_0</th>\n",
       "      <th>lep_pt_1</th>\n",
       "      <th>lep_pt_2</th>\n",
       "      <th>lep_pt_3</th>\n",
       "      <th>lep_eta_0</th>\n",
       "      <th>lep_eta_1</th>\n",
       "      <th>lep_eta_2</th>\n",
       "      <th>lep_eta_3</th>\n",
       "      <th>lep_phi_0</th>\n",
       "      <th>...</th>\n",
       "      <th>lep_ptconerel_3</th>\n",
       "      <th>lep_etconerel_0</th>\n",
       "      <th>lep_etconerel_1</th>\n",
       "      <th>lep_etconerel_2</th>\n",
       "      <th>lep_etconerel_3</th>\n",
       "      <th>min_mll</th>\n",
       "      <th>mZ1</th>\n",
       "      <th>mZ2</th>\n",
       "      <th>mllll</th>\n",
       "      <th>totalWeight</th>\n",
       "    </tr>\n",
       "  </thead>\n",
       "  <tbody>\n",
       "    <tr>\n",
       "      <th>0</th>\n",
       "      <td>0</td>\n",
       "      <td>51.905457</td>\n",
       "      <td>41.248570</td>\n",
       "      <td>16.397670</td>\n",
       "      <td>7.471228</td>\n",
       "      <td>-0.925709</td>\n",
       "      <td>-0.823695</td>\n",
       "      <td>-0.486417</td>\n",
       "      <td>0.266718</td>\n",
       "      <td>-2.774290</td>\n",
       "      <td>...</td>\n",
       "      <td>0.000000</td>\n",
       "      <td>-0.005114</td>\n",
       "      <td>0.034386</td>\n",
       "      <td>0.071266</td>\n",
       "      <td>-0.115843</td>\n",
       "      <td>9.953831</td>\n",
       "      <td>92.628607</td>\n",
       "      <td>23.311568</td>\n",
       "      <td>122.689157</td>\n",
       "      <td>0.000018</td>\n",
       "    </tr>\n",
       "    <tr>\n",
       "      <th>1</th>\n",
       "      <td>1</td>\n",
       "      <td>41.430645</td>\n",
       "      <td>40.307168</td>\n",
       "      <td>16.133789</td>\n",
       "      <td>7.481857</td>\n",
       "      <td>-1.233182</td>\n",
       "      <td>-0.396434</td>\n",
       "      <td>-0.541508</td>\n",
       "      <td>-0.302179</td>\n",
       "      <td>0.449031</td>\n",
       "      <td>...</td>\n",
       "      <td>0.151779</td>\n",
       "      <td>-0.030370</td>\n",
       "      <td>0.017931</td>\n",
       "      <td>0.030408</td>\n",
       "      <td>-0.120944</td>\n",
       "      <td>17.821408</td>\n",
       "      <td>86.697751</td>\n",
       "      <td>17.821408</td>\n",
       "      <td>113.659172</td>\n",
       "      <td>0.000034</td>\n",
       "    </tr>\n",
       "    <tr>\n",
       "      <th>2</th>\n",
       "      <td>2</td>\n",
       "      <td>33.646711</td>\n",
       "      <td>27.313271</td>\n",
       "      <td>20.035949</td>\n",
       "      <td>16.472641</td>\n",
       "      <td>-0.032324</td>\n",
       "      <td>-0.044153</td>\n",
       "      <td>0.067013</td>\n",
       "      <td>1.859531</td>\n",
       "      <td>-2.077223</td>\n",
       "      <td>...</td>\n",
       "      <td>0.000000</td>\n",
       "      <td>0.016144</td>\n",
       "      <td>-0.012675</td>\n",
       "      <td>0.101923</td>\n",
       "      <td>0.017772</td>\n",
       "      <td>32.122807</td>\n",
       "      <td>62.627431</td>\n",
       "      <td>32.122807</td>\n",
       "      <td>125.399958</td>\n",
       "      <td>0.000040</td>\n",
       "    </tr>\n",
       "    <tr>\n",
       "      <th>3</th>\n",
       "      <td>3</td>\n",
       "      <td>77.118562</td>\n",
       "      <td>27.845740</td>\n",
       "      <td>17.726541</td>\n",
       "      <td>14.714521</td>\n",
       "      <td>0.514764</td>\n",
       "      <td>0.845311</td>\n",
       "      <td>2.189158</td>\n",
       "      <td>0.179711</td>\n",
       "      <td>0.115437</td>\n",
       "      <td>...</td>\n",
       "      <td>0.000000</td>\n",
       "      <td>-0.005004</td>\n",
       "      <td>-0.007781</td>\n",
       "      <td>0.000000</td>\n",
       "      <td>0.034991</td>\n",
       "      <td>29.143731</td>\n",
       "      <td>84.535069</td>\n",
       "      <td>29.143731</td>\n",
       "      <td>123.645105</td>\n",
       "      <td>0.000059</td>\n",
       "    </tr>\n",
       "    <tr>\n",
       "      <th>4</th>\n",
       "      <td>4</td>\n",
       "      <td>161.909219</td>\n",
       "      <td>53.367754</td>\n",
       "      <td>25.596689</td>\n",
       "      <td>18.864479</td>\n",
       "      <td>-1.037354</td>\n",
       "      <td>-0.821728</td>\n",
       "      <td>-1.261883</td>\n",
       "      <td>0.126195</td>\n",
       "      <td>-0.161717</td>\n",
       "      <td>...</td>\n",
       "      <td>0.000000</td>\n",
       "      <td>0.018625</td>\n",
       "      <td>-0.000264</td>\n",
       "      <td>-0.001246</td>\n",
       "      <td>-0.002172</td>\n",
       "      <td>39.159591</td>\n",
       "      <td>68.958081</td>\n",
       "      <td>48.500839</td>\n",
       "      <td>123.518264</td>\n",
       "      <td>0.000078</td>\n",
       "    </tr>\n",
       "    <tr>\n",
       "      <th>...</th>\n",
       "      <td>...</td>\n",
       "      <td>...</td>\n",
       "      <td>...</td>\n",
       "      <td>...</td>\n",
       "      <td>...</td>\n",
       "      <td>...</td>\n",
       "      <td>...</td>\n",
       "      <td>...</td>\n",
       "      <td>...</td>\n",
       "      <td>...</td>\n",
       "      <td>...</td>\n",
       "      <td>...</td>\n",
       "      <td>...</td>\n",
       "      <td>...</td>\n",
       "      <td>...</td>\n",
       "      <td>...</td>\n",
       "      <td>...</td>\n",
       "      <td>...</td>\n",
       "      <td>...</td>\n",
       "      <td>...</td>\n",
       "      <td>...</td>\n",
       "    </tr>\n",
       "    <tr>\n",
       "      <th>164711</th>\n",
       "      <td>164711</td>\n",
       "      <td>32.143482</td>\n",
       "      <td>24.158068</td>\n",
       "      <td>17.203547</td>\n",
       "      <td>14.358152</td>\n",
       "      <td>-1.003832</td>\n",
       "      <td>0.609448</td>\n",
       "      <td>0.876340</td>\n",
       "      <td>1.039745</td>\n",
       "      <td>-0.417631</td>\n",
       "      <td>...</td>\n",
       "      <td>0.000000</td>\n",
       "      <td>-0.020921</td>\n",
       "      <td>0.040304</td>\n",
       "      <td>-0.001333</td>\n",
       "      <td>0.010283</td>\n",
       "      <td>25.926057</td>\n",
       "      <td>62.697352</td>\n",
       "      <td>39.612517</td>\n",
       "      <td>123.352912</td>\n",
       "      <td>0.000019</td>\n",
       "    </tr>\n",
       "    <tr>\n",
       "      <th>164712</th>\n",
       "      <td>164712</td>\n",
       "      <td>39.488273</td>\n",
       "      <td>33.694094</td>\n",
       "      <td>32.709998</td>\n",
       "      <td>14.797520</td>\n",
       "      <td>0.184790</td>\n",
       "      <td>0.799441</td>\n",
       "      <td>-0.454989</td>\n",
       "      <td>-1.167309</td>\n",
       "      <td>-0.747386</td>\n",
       "      <td>...</td>\n",
       "      <td>0.000000</td>\n",
       "      <td>0.040552</td>\n",
       "      <td>-0.000592</td>\n",
       "      <td>0.018882</td>\n",
       "      <td>-0.019414</td>\n",
       "      <td>30.654450</td>\n",
       "      <td>56.876117</td>\n",
       "      <td>30.654450</td>\n",
       "      <td>122.652688</td>\n",
       "      <td>0.000054</td>\n",
       "    </tr>\n",
       "    <tr>\n",
       "      <th>164713</th>\n",
       "      <td>164713</td>\n",
       "      <td>63.284211</td>\n",
       "      <td>22.707840</td>\n",
       "      <td>15.635994</td>\n",
       "      <td>14.873250</td>\n",
       "      <td>0.935591</td>\n",
       "      <td>0.184483</td>\n",
       "      <td>0.174508</td>\n",
       "      <td>2.128866</td>\n",
       "      <td>-1.503719</td>\n",
       "      <td>...</td>\n",
       "      <td>0.000000</td>\n",
       "      <td>0.010497</td>\n",
       "      <td>-0.015776</td>\n",
       "      <td>-0.022911</td>\n",
       "      <td>-0.003570</td>\n",
       "      <td>30.952590</td>\n",
       "      <td>66.649322</td>\n",
       "      <td>37.686620</td>\n",
       "      <td>124.312299</td>\n",
       "      <td>0.000071</td>\n",
       "    </tr>\n",
       "    <tr>\n",
       "      <th>164714</th>\n",
       "      <td>164714</td>\n",
       "      <td>52.538805</td>\n",
       "      <td>40.321457</td>\n",
       "      <td>25.766850</td>\n",
       "      <td>19.381920</td>\n",
       "      <td>0.880250</td>\n",
       "      <td>1.205615</td>\n",
       "      <td>1.701138</td>\n",
       "      <td>0.853039</td>\n",
       "      <td>-2.060255</td>\n",
       "      <td>...</td>\n",
       "      <td>0.000000</td>\n",
       "      <td>0.017046</td>\n",
       "      <td>-0.013661</td>\n",
       "      <td>0.057185</td>\n",
       "      <td>0.000224</td>\n",
       "      <td>19.868087</td>\n",
       "      <td>88.412652</td>\n",
       "      <td>19.868087</td>\n",
       "      <td>124.105421</td>\n",
       "      <td>0.000060</td>\n",
       "    </tr>\n",
       "    <tr>\n",
       "      <th>164715</th>\n",
       "      <td>164715</td>\n",
       "      <td>58.730094</td>\n",
       "      <td>35.112828</td>\n",
       "      <td>12.265971</td>\n",
       "      <td>11.089536</td>\n",
       "      <td>-1.204163</td>\n",
       "      <td>-1.788791</td>\n",
       "      <td>-0.268844</td>\n",
       "      <td>-0.827986</td>\n",
       "      <td>1.666449</td>\n",
       "      <td>...</td>\n",
       "      <td>0.000000</td>\n",
       "      <td>-0.006048</td>\n",
       "      <td>-0.008303</td>\n",
       "      <td>0.210177</td>\n",
       "      <td>-0.064255</td>\n",
       "      <td>23.934566</td>\n",
       "      <td>94.729962</td>\n",
       "      <td>23.934566</td>\n",
       "      <td>127.972664</td>\n",
       "      <td>0.000064</td>\n",
       "    </tr>\n",
       "  </tbody>\n",
       "</table>\n",
       "<p>161451 rows × 46 columns</p>\n",
       "</div>"
      ],
      "text/plain": [
       "         entry    lep_pt_0   lep_pt_1   lep_pt_2   lep_pt_3  lep_eta_0  \\\n",
       "0            0   51.905457  41.248570  16.397670   7.471228  -0.925709   \n",
       "1            1   41.430645  40.307168  16.133789   7.481857  -1.233182   \n",
       "2            2   33.646711  27.313271  20.035949  16.472641  -0.032324   \n",
       "3            3   77.118562  27.845740  17.726541  14.714521   0.514764   \n",
       "4            4  161.909219  53.367754  25.596689  18.864479  -1.037354   \n",
       "...        ...         ...        ...        ...        ...        ...   \n",
       "164711  164711   32.143482  24.158068  17.203547  14.358152  -1.003832   \n",
       "164712  164712   39.488273  33.694094  32.709998  14.797520   0.184790   \n",
       "164713  164713   63.284211  22.707840  15.635994  14.873250   0.935591   \n",
       "164714  164714   52.538805  40.321457  25.766850  19.381920   0.880250   \n",
       "164715  164715   58.730094  35.112828  12.265971  11.089536  -1.204163   \n",
       "\n",
       "        lep_eta_1  lep_eta_2  lep_eta_3  lep_phi_0  ...  lep_ptconerel_3  \\\n",
       "0       -0.823695  -0.486417   0.266718  -2.774290  ...         0.000000   \n",
       "1       -0.396434  -0.541508  -0.302179   0.449031  ...         0.151779   \n",
       "2       -0.044153   0.067013   1.859531  -2.077223  ...         0.000000   \n",
       "3        0.845311   2.189158   0.179711   0.115437  ...         0.000000   \n",
       "4       -0.821728  -1.261883   0.126195  -0.161717  ...         0.000000   \n",
       "...           ...        ...        ...        ...  ...              ...   \n",
       "164711   0.609448   0.876340   1.039745  -0.417631  ...         0.000000   \n",
       "164712   0.799441  -0.454989  -1.167309  -0.747386  ...         0.000000   \n",
       "164713   0.184483   0.174508   2.128866  -1.503719  ...         0.000000   \n",
       "164714   1.205615   1.701138   0.853039  -2.060255  ...         0.000000   \n",
       "164715  -1.788791  -0.268844  -0.827986   1.666449  ...         0.000000   \n",
       "\n",
       "        lep_etconerel_0  lep_etconerel_1  lep_etconerel_2  lep_etconerel_3  \\\n",
       "0             -0.005114         0.034386         0.071266        -0.115843   \n",
       "1             -0.030370         0.017931         0.030408        -0.120944   \n",
       "2              0.016144        -0.012675         0.101923         0.017772   \n",
       "3             -0.005004        -0.007781         0.000000         0.034991   \n",
       "4              0.018625        -0.000264        -0.001246        -0.002172   \n",
       "...                 ...              ...              ...              ...   \n",
       "164711        -0.020921         0.040304        -0.001333         0.010283   \n",
       "164712         0.040552        -0.000592         0.018882        -0.019414   \n",
       "164713         0.010497        -0.015776        -0.022911        -0.003570   \n",
       "164714         0.017046        -0.013661         0.057185         0.000224   \n",
       "164715        -0.006048        -0.008303         0.210177        -0.064255   \n",
       "\n",
       "          min_mll        mZ1        mZ2       mllll  totalWeight  \n",
       "0        9.953831  92.628607  23.311568  122.689157     0.000018  \n",
       "1       17.821408  86.697751  17.821408  113.659172     0.000034  \n",
       "2       32.122807  62.627431  32.122807  125.399958     0.000040  \n",
       "3       29.143731  84.535069  29.143731  123.645105     0.000059  \n",
       "4       39.159591  68.958081  48.500839  123.518264     0.000078  \n",
       "...           ...        ...        ...         ...          ...  \n",
       "164711  25.926057  62.697352  39.612517  123.352912     0.000019  \n",
       "164712  30.654450  56.876117  30.654450  122.652688     0.000054  \n",
       "164713  30.952590  66.649322  37.686620  124.312299     0.000071  \n",
       "164714  19.868087  88.412652  19.868087  124.105421     0.000060  \n",
       "164715  23.934566  94.729962  23.934566  127.972664     0.000064  \n",
       "\n",
       "[161451 rows x 46 columns]"
      ]
     },
     "execution_count": 10,
     "metadata": {},
     "output_type": "execute_result"
    }
   ],
   "source": [
    "# apply cut on lepton charge\n",
    "for s in samples:\n",
    "    # cut on lepton charge using the function cut_lep_charge defined above\n",
    "    DataFrames[s] = DataFrames[s][ np.vectorize(cut_lep_charge)(DataFrames[s].lep_charge_0,\n",
    "                                                    \t    DataFrames[s].lep_charge_1,\n",
    "                                                    \t    DataFrames[s].lep_charge_2,\n",
    "                                                    \t    DataFrames[s].lep_charge_3) ]\n",
    "DataFrames['ggH125_ZZ4lep'] # print signal data to take a look"
   ]
  },
  {
   "cell_type": "markdown",
   "metadata": {},
   "source": [
    "## Plot some input variables\n",
    "In any analysis searching for signal one wants to optimise the use of various input variables. Often, this optimisation will be to find the best signal to background ratio. Here we define histograms for the variables that we’ll look to optimise."
   ]
  },
  {
   "cell_type": "code",
   "execution_count": 11,
   "metadata": {},
   "outputs": [],
   "source": [
    "lep_pt_2 = {  # dictionary containing plotting parameters for the lep_pt_2 histogram\n",
    "    # change plotting parameters\n",
    "    \"bin_width\": 1,  # width of each histogram bin\n",
    "    \"num_bins\": 13,  # number of histogram bins\n",
    "    \"xrange_min\": 7,  # minimum on x-axis\n",
    "    \"xlabel\": r\"$lep\\_pt$[2] [GeV]\",  # x-axis label\n",
    "}"
   ]
  },
  {
   "cell_type": "code",
   "execution_count": 12,
   "metadata": {},
   "outputs": [],
   "source": [
    "lep_pt_1 = { # dictionary containing plotting parameters for the lep_pt_1 histogram\n",
    "    # change plotting parameters\n",
    "    'bin_width':1, # width of each histogram bin\n",
    "    'num_bins':28, # number of histogram bins\n",
    "    'xrange_min':7, # minimum on x-axis\n",
    "    'xlabel':r'$lep\\_pt$[1] [GeV]', # x-axis label\n",
    "}"
   ]
  },
  {
   "cell_type": "markdown",
   "metadata": {},
   "source": [
    "Now we define a dictionary for the histograms we want to plot."
   ]
  },
  {
   "cell_type": "code",
   "execution_count": 13,
   "metadata": {},
   "outputs": [],
   "source": [
    "SoverB_hist_dict = {\n",
    "    \"lep_pt_2\": lep_pt_2,\n",
    "    \"lep_pt_1\": lep_pt_1,\n",
    "}  # add a histogram here if you want it plotted"
   ]
  },
  {
   "cell_type": "markdown",
   "metadata": {},
   "source": [
    "Now let’s take a look at those variables. Because the code is a bit long, we pre-defined a function for you, to illustrate the optimum cut value on individual variables, based on signal to background ratio. Let’s call the function to illustrate the optimum cut value on individual variables, based on signal to background ratio. You can check out the function definition [–>here<–](https://www.kaggle.com/code/meirinevans/my-functions)\n",
    "\n",
    "We’re not doing any machine learning just yet! We’re looking at the variables we’ll later use for machine learning."
   ]
  },
  {
   "cell_type": "code",
   "execution_count": 14,
   "metadata": {},
   "outputs": [],
   "source": [
    "def plot_SoverB(DataFrames, SoverB_hist_dict):\n",
    "    for x_variable,hist in SoverB_hist_dict.items(): # access the dictionary of histograms defined in the cell above\n",
    "\n",
    "        h_bin_width = hist['bin_width'] # get the bin width defined in the cell above\n",
    "        h_num_bins = hist['num_bins'] # get the number of bins defined in the cell above\n",
    "        h_xrange_min = hist['xrange_min'] # get the x-range minimum defined in the cell above\n",
    "        h_xlabel = hist['xlabel'] # get the x-axis label defined in the cell above\n",
    "    \n",
    "        bin_edges = [ h_xrange_min + x*h_bin_width for x in range(h_num_bins+1) ] # bin limits\n",
    "        bin_centres = [ h_xrange_min+h_bin_width/2 + x*h_bin_width for x in range(h_num_bins) ] # bin centres\n",
    "        \n",
    "        signal_x = [] # define list to hold the signal histogram entries\n",
    "        background_x = [] # define list to hold the background histogram entries\n",
    "        for key in DataFrames: # loop over samples\n",
    "            if key!='data': # only Monte Carlo should pass this\n",
    "                if 'H125' in key or 'ttZ' in key: # only signal should pass this\n",
    "                    signal_x = [*signal_x, *DataFrames[key][x_variable] ] # signal histogram entries\n",
    "                else: # only background should pass this\n",
    "                    background_x = [*background_x, *DataFrames[key][x_variable] ] # background histogram entries\n",
    "\n",
    "    \n",
    "    \n",
    "        # *************\n",
    "        # Signal and background distributions\n",
    "        # *************\n",
    "        distributions_axes = plt.gca() # get current axes\n",
    " \n",
    "        background_heights = distributions_axes.hist(background_x, bins=bin_edges, \n",
    "                                                     color='blue', label='Total background',\n",
    "                                                     histtype='step', # lineplot that's unfilled\n",
    "                                                     density=True ) # normalize to form probability density\n",
    "        signal_heights = distributions_axes.hist(signal_x, bins=bin_edges, color='orange',\n",
    "                                                 label='Signal', \n",
    "                                                 histtype='step', # lineplot that's unfilled\n",
    "                                                 density=True, # normalize to form probability density\n",
    "                                                 linestyle='--' ) # dashed line\n",
    "        \n",
    "        distributions_axes.set_xlim( left=bin_edges[0], right=bin_edges[-1] ) # x-limits of the distributions axes\n",
    "        distributions_axes.set_ylabel('Arbitrary units' ) # y-axis label for distributions axes\n",
    "        distributions_axes.set_ylim( top=max(signal_heights[0])*1.3 ) # set y-axis limits\n",
    "        plt.title('Signal and background '+x_variable+' distributions') # add title\n",
    "        distributions_axes.legend() # draw the legend\n",
    "        distributions_axes.set_xlabel( h_xlabel ) # x-axis label\n",
    "        \n",
    "        # Add text 'ATLAS Open Data' on plot\n",
    "        plt.text(0.05, # x\n",
    "                 0.93, # y\n",
    "                 'ATLAS Open Data', # text\n",
    "                 transform=distributions_axes.transAxes, # coordinate system used is that of distributions_axes\n",
    "                 fontsize=13 ) \n",
    "        # Add text 'for education' on plot\n",
    "        plt.text(0.05, # x\n",
    "                 0.88, # y\n",
    "                 'for education', # text\n",
    "                 transform=distributions_axes.transAxes, # coordinate system used is that of distributions_axes\n",
    "                 style='italic',\n",
    "                 fontsize=8 )  \n",
    "    \n",
    "        plt.show() # show the Signal and background distributions\n",
    "    \n",
    "    \n",
    "        # *************\n",
    "        # Signal to background ratio\n",
    "        # *************\n",
    "        plt.figure() # start new figure\n",
    "        SoverB = [] # list to hold S/B values\n",
    "        for cut_value in bin_edges: # loop over bins\n",
    "            signal_weights_passing_cut = 0 # start counter for signal weight passing cut\n",
    "            background_weights_passing_cut = 0 # start counter for background weights passing cut\n",
    "            for key in DataFrames: # loop over samples\n",
    "                if key!='data': # only Monte Carlo should pass this\n",
    "                    if 'H125' in key or 'ttZ' in key: # only signal should pass this\n",
    "                        signal_weights_passing_cut += sum(DataFrames[key][DataFrames[key][x_variable]>cut_value].totalWeight)\n",
    "                    else: # only background should pass this\n",
    "                        background_weights_passing_cut += sum(DataFrames[key][DataFrames[key][x_variable]>cut_value].totalWeight)\n",
    "            if background_weights_passing_cut!=0: # some background passes cut\n",
    "                SoverB_value = signal_weights_passing_cut/background_weights_passing_cut\n",
    "                SoverB_percent = 100*SoverB_value # multiply by 100 for percentage\n",
    "                SoverB.append(SoverB_percent) # append to list of S/B values\n",
    "        \n",
    "        SoverB_axes = plt.gca() # get current axes\n",
    "        SoverB_axes.plot( bin_edges[:len(SoverB)], SoverB ) # plot the data points\n",
    "        SoverB_axes.set_xlim( left=bin_edges[0], right=bin_edges[-1] ) # set the x-limit of the main axes\n",
    "        SoverB_axes.set_ylabel( 'S/B (%)' ) # write y-axis label for main axes\n",
    "        plt.title('Signal to background ratio for different '+x_variable+' cut values', family='sans-serif')\n",
    "        SoverB_axes.set_xlabel( h_xlabel ) # x-axis label \n",
    "        \n",
    "        plt.show() # show S/B plot\n",
    "    \n",
    "    return\n",
    "\n",
    "\n",
    "def compare_train_test(clf, X_train, y_train, X_test, y_test, xlabel):\n",
    "    decisions = [] # list to hold decisions of classifier\n",
    "    for X,y in ((X_train, y_train), (X_test, y_test)): # train and test\n",
    "        if hasattr(clf, \"predict_proba\"): # if predict_proba function exists\n",
    "            d1 = clf.predict_proba(X[y<0.5])[:, 1] # background\n",
    "            d2 = clf.predict_proba(X[y>0.5])[:, 1] # signal\n",
    "        else: # predict_proba function doesn't exist\n",
    "            X_tensor = torch.as_tensor(X, dtype=torch.float) # make tensor from X_test_scaled\n",
    "            y_tensor = torch.as_tensor(y, dtype=torch.long) # make tensor from y_test\n",
    "            X_var, y_var = Variable(X_tensor), Variable(y_tensor) # make variables from tensors\n",
    "            d1 = clf(X_var[y_var<0.5])[1][:, 1].cpu().detach().numpy() # background\n",
    "            d2 = clf(X_var[y_var>0.5])[1][:, 1].cpu().detach().numpy() # signal\n",
    "        decisions += [d1, d2] # add to list of classifier decision\n",
    "    \n",
    "    highest_decision = max(np.max(d) for d in decisions) # get maximum score\n",
    "    bin_edges = [] # list to hold bin edges\n",
    "    bin_edge = -0.1 # start counter for bin_edges\n",
    "    while bin_edge < highest_decision: # up to highest score\n",
    "        bin_edge += 0.1 # increment\n",
    "        bin_edges.append(bin_edge)\n",
    "    \n",
    "    plt.hist(decisions[0], # background in train set\n",
    "             bins=bin_edges, # lower and upper range of the bins\n",
    "             density=True, # area under the histogram will sum to 1\n",
    "             histtype='stepfilled', # lineplot that's filled\n",
    "             color='blue', label='Background (train)', # Background (train)\n",
    "            alpha=0.5 ) # half transparency\n",
    "    plt.hist(decisions[1], # background in train set\n",
    "             bins=bin_edges, # lower and upper range of the bins\n",
    "             density=True, # area under the histogram will sum to 1\n",
    "             histtype='stepfilled', # lineplot that's filled\n",
    "             color='orange', label='Signal (train)', # Signal (train)\n",
    "            alpha=0.5 ) # half transparency\n",
    "\n",
    "    hist_background, bin_edges = np.histogram(decisions[2], # background test\n",
    "                                              bins=bin_edges, # number of bins in function definition\n",
    "                                              density=True ) # area under the histogram will sum to 1\n",
    "    \n",
    "    scale = len(decisions[2]) / sum(hist_background) # between raw and normalised\n",
    "    err_background = np.sqrt(hist_background * scale) / scale # error on test background\n",
    "\n",
    "    width = 0.1 # histogram bin width\n",
    "    center = (bin_edges[:-1] + bin_edges[1:]) / 2 # bin centres\n",
    "    \n",
    "    plt.errorbar(x=center, y=hist_background, yerr=err_background, fmt='o', # circles\n",
    "                 c='blue', label='Background (test)' ) # Background (test)\n",
    "    \n",
    "    hist_signal, bin_edges = np.histogram(decisions[3], # siganl test\n",
    "                                          bins=bin_edges, # number of bins in function definition\n",
    "                                          density=True ) # area under the histogram will sum to 1\n",
    "    scale = len(decisions[3]) / sum(hist_signal) # between raw and normalised\n",
    "    err_signal = np.sqrt(hist_signal * scale) / scale # error on test background\n",
    "    \n",
    "    plt.errorbar(x=center, y=hist_signal, yerr=err_signal, fmt='o', # circles\n",
    "                 c='orange', label='Signal (test)' ) # Signal (test)\n",
    "    \n",
    "    plt.xlabel(xlabel) # write x-axis label\n",
    "    plt.ylabel(\"Arbitrary units\") # write y-axis label\n",
    "    plt.legend() # add legend\n",
    "\n",
    "\n",
    "# function to write the definition of our function to the file\n",
    "#def write_function_to_file(function, file):\n",
    "#    if os.path.exists(file):\n",
    "#        append_write = 'a' # append if already exists\n",
    "#    else:\n",
    "#        append_write = 'w' # make a new file if not\n",
    "#    with open(file, append_write) as file:\n",
    "#        function_definition = inspect.getsource(function)\n",
    "#        file.write(function_definition)\n",
    "\n",
    "# write our functions to our output file        \n",
    "#write_function_to_file(plot_SoverB, \"my_functions.py\")\n",
    "#write_function_to_file(compare_train_test, \"my_functions.py\")"
   ]
  },
  {
   "cell_type": "code",
   "execution_count": 15,
   "metadata": {},
   "outputs": [
    {
     "data": {
      "image/png": "[encoded data removed]",
      "text/plain": [
       "<Figure size 640x480 with 1 Axes>"
      ]
     },
     "metadata": {},
     "output_type": "display_data"
    },
    {
     "data": {
      "image/png": "[encoded data removed]",
      "text/plain": [
       "<Figure size 640x480 with 1 Axes>"
      ]
     },
     "metadata": {},
     "output_type": "display_data"
    },
    {
     "data": {
      "image/png": "[encoded data removed]",
      "text/plain": [
       "<Figure size 640x480 with 1 Axes>"
      ]
     },
     "metadata": {},
     "output_type": "display_data"
    },
    {
     "data": {
      "image/png": "[encoded data removed]",
      "text/plain": [
       "<Figure size 640x480 with 1 Axes>"
      ]
     },
     "metadata": {},
     "output_type": "display_data"
    }
   ],
   "source": [
    "#from my_functions import plot_SoverB\n",
    "\n",
    "plot_SoverB(DataFrames, SoverB_hist_dict)"
   ]
  },
  {
   "cell_type": "markdown",
   "metadata": {},
   "source": [
    "Let’s talk through the lep_pt_2 plots.\n",
    "\n",
    "Imagine placing a cut at 7 GeV in the distributions of signal and background (1st plot). This means keeping all events above 7 GeV in the signal and background histograms.\n",
    "We then take the ratio of the number of signal events that pass this cut, to the number of background events that pass this cut. This gives us a starting value for S/B (2nd plot).\n",
    "We then increase this cut value to 8 GeV, 9 GeV, 10 GeV, 11 GeV, 12 GeV. Cuts at these values are throwing away more background than signal, so S/B increases.\n",
    "There comes a point around 13 GeV where we start throwing away too much signal, thus S/B starts to decrease.\n",
    "Our goal is to find the maximum in S/B, and place the cut there. You may have thought the maximum would be where the signal and background cross in the upper plot, but remember that the lower plot is the signal to background ratio of everything to the right of that x-value, not the signal to background ratio at that x-value."
   ]
  },
  {
   "cell_type": "markdown",
   "metadata": {},
   "source": [
    "## Format the data for machine learning\n",
    "\n",
    "It’s almost time to build a machine learning model! First we choose the variables to use in our machine learning model.\n",
    "\n"
   ]
  },
  {
   "cell_type": "code",
   "execution_count": 16,
   "metadata": {},
   "outputs": [],
   "source": [
    "ML_inputs = [\"lep_pt_1\", \"lep_pt_2\"]  # list of features for ML model"
   ]
  },
  {
   "cell_type": "markdown",
   "metadata": {},
   "source": [
    "The data type is currently a pandas DataFrame: we now need to convert it into a NumPy array so that it can be used in scikit-learn and TensorFlow during the machine learning process. Note that there are many ways that this can be done: in this tutorial we will use the NumPy concatenate functionality to format our data set. For more information, please see the NumPy documentation on concatenate. We will briefly walk through the code in this tutorial.\n",
    "\n"
   ]
  },
  {
   "cell_type": "code",
   "execution_count": 17,
   "metadata": {},
   "outputs": [],
   "source": [
    "#  Organise data ready for the machine learning model\n",
    "\n",
    "# for sklearn data are usually organised\n",
    "# into one 2D array of shape (n_samples x n_features)\n",
    "# containing all the data and one array of categories\n",
    "# of length n_samples\n",
    "\n",
    "all_MC = []  # define empty list that will contain all features for the MC\n",
    "for s in samples:  # loop over the different samples\n",
    "    if s != \"data\":  # only MC should pass this\n",
    "        all_MC.append(\n",
    "            DataFrames[s][ML_inputs]\n",
    "        )  # append the MC dataframe to the list containing all MC features\n",
    "X = np.concatenate(\n",
    "    all_MC\n",
    ")  # concatenate the list of MC dataframes into a single 2D array of features, called X\n",
    "\n",
    "all_y = (\n",
    "    []\n",
    ")  # define empty list that will contain labels whether an event in signal or background\n",
    "for s in samples:  # loop over the different samples\n",
    "    if s != \"data\":  # only MC should pass this\n",
    "        if \"H125\" in s:  # only signal MC should pass this\n",
    "            all_y.append(\n",
    "                np.ones(DataFrames[s].shape[0])\n",
    "            )  # signal events are labelled with 1\n",
    "        else:  # only background MC should pass this\n",
    "            all_y.append(\n",
    "                np.zeros(DataFrames[s].shape[0])\n",
    "            )  # background events are labelled 0\n",
    "y = np.concatenate(\n",
    "    all_y\n",
    ")  # concatenate the list of labels into a single 1D array of labels, called y"
   ]
  },
  {
   "cell_type": "markdown",
   "metadata": {},
   "source": [
    "This takes in DataFrames and spits out a NumPy array consisting of only the DataFrame columns corresponding to ML_inputs.\n",
    "\n",
    "Now we separate our data into a training and test "
   ]
  },
  {
   "cell_type": "code",
   "execution_count": 18,
   "metadata": {},
   "outputs": [],
   "source": [
    "# This will split your data into train-test sets: 67%-33%.\n",
    "# It will also shuffle entries so you will not get the first 67% of X for training\n",
    "# and the last 33% for testing.\n",
    "# This is particularly important in cases where you load all signal events first\n",
    "# and then the background events.\n",
    "\n",
    "# Here we split our data into two independent samples.\n",
    "# The split is to create a training and testing set.\n",
    "# The first will be used for classifier training and the second to evaluate its performance.\n",
    "\n",
    "from sklearn.model_selection import train_test_split\n",
    "\n",
    "# make train and test sets\n",
    "X_train, X_test, y_train, y_test = train_test_split(\n",
    "    X, y, test_size=0.33, random_state=seed_value\n",
    ")  # set the random seed for reproducibility"
   ]
  },
  {
   "cell_type": "markdown",
   "metadata": {},
   "source": [
    "Machine learning models may have difficulty converging before the maximum number of iterations allowed if the data aren’t normalized. Note that you must apply the same scaling to the test set for meaningful results (we’ll apply the scaling to the test set in the next step). There are a lot of different methods for normalization of data. We will use the built-in [`StandardScaler`](https://scikit-learn.org/stable/modules/generated/sklearn.preprocessing.StandardScaler.html) for standardization. The `StandardScaler` ensures that all numerical attributes are scaled to have a mean of 0 and a standard deviation of 1 before they are fed to the machine learning model. This type of preprocessing is common before feeding data into machine learning models and is especially important for neural networks."
   ]
  },
  {
   "cell_type": "code",
   "execution_count": 19,
   "metadata": {},
   "outputs": [
    {
     "data": {
      "text/plain": [
       "StandardScaler()"
      ]
     },
     "execution_count": 19,
     "metadata": {},
     "output_type": "execute_result"
    }
   ],
   "source": [
    "from sklearn.preprocessing import StandardScaler\n",
    "\n",
    "scaler = StandardScaler()  # initialise StandardScaler\n",
    "\n",
    "# Fit only to the training data\n",
    "scaler.fit(X_train)"
   ]
  },
  {
   "cell_type": "markdown",
   "metadata": {},
   "source": [
    "Now we will use the scaling to apply the transformations to the data."
   ]
  },
  {
   "cell_type": "code",
   "execution_count": 20,
   "metadata": {},
   "outputs": [],
   "source": [
    "X_train_scaled = scaler.transform(X_train)"
   ]
  },
  {
   "cell_type": "markdown",
   "metadata": {},
   "source": [
    "Apply the same scaler transformation to X_test and X."
   ]
  },
  {
   "cell_type": "code",
   "execution_count": 21,
   "metadata": {},
   "outputs": [],
   "source": [
    "X_test_scaled = scaler.transform(X_test)\n",
    "X_scaled = scaler.transform(X)"
   ]
  },
  {
   "cell_type": "markdown",
   "metadata": {},
   "source": [
    "Now we are ready to examine various models \n",
    "*f*\n",
    " for predicting whether an event corresponds to a signal event or a background event."
   ]
  },
  {
   "cell_type": "markdown",
   "metadata": {},
   "source": [
    "## Models\n"
   ]
  },
  {
   "cell_type": "markdown",
   "metadata": {},
   "source": [
    "In this section we will examine 2 different machine learning models \n",
    "*f*\n",
    " for classification: the random forest (RF)"
   ]
  },
  {
   "cell_type": "markdown",
   "metadata": {},
   "source": [
    "In the previous, we created a training and test dataset. Lets use these datasets to train a random forest."
   ]
  },
  {
   "cell_type": "code",
   "execution_count": 22,
   "metadata": {},
   "outputs": [
    {
     "name": "stdout",
     "output_type": "stream",
     "text": [
      "0.8166721931162544\n"
     ]
    }
   ],
   "source": [
    "from sklearn.ensemble import RandomForestClassifier\n",
    "from sklearn.metrics import accuracy_score\n",
    "\n",
    "RF_clf = RandomForestClassifier(\n",
    "    criterion=\"gini\", max_depth=8, n_estimators=30, random_state=seed_value\n",
    ")  # initialise your random forest classifier\n",
    "RF_clf.fit(X_train_scaled, y_train)  # fit to the training data\n",
    "y_pred_RF = RF_clf.predict(X_test_scaled)  # make predictions on the test data\n",
    "\n",
    "# See how well the classifier does\n",
    "print(accuracy_score(y_test, y_pred_RF))"
   ]
  },
  {
   "cell_type": "markdown",
   "metadata": {},
   "source": [
    "In this section we will check whether there has been any overfitting during the model training phase. As discussed in the lesson on Mathematical Foundations, overfitting can be an unwanted fly in the ointment, so it should be avoided!\n",
    "\n",
    "Comparing a machine learning model’s output distribution for the training and testing set is a popular way in High Energy Physics to check for overfitting. The compare_train_test() method will plot the shape of the machine learning model’s decision function for each class, as well as overlaying it with the decision function in the training set.\n",
    "\n",
    "There are techniques to prevent overfitting."
   ]
  },
  {
   "cell_type": "markdown",
   "metadata": {},
   "source": [
    "The code to plot the overfitting check is a bit long, so once again you can see the function definition."
   ]
  },
  {
   "cell_type": "code",
   "execution_count": 23,
   "metadata": {},
   "outputs": [
    {
     "data": {
      "image/png": "[encoded data removed]",
      "text/plain": [
       "<Figure size 640x480 with 1 Axes>"
      ]
     },
     "metadata": {},
     "output_type": "display_data"
    }
   ],
   "source": [
    "compare_train_test(\n",
    "    RF_clf, X_train_scaled, y_train, X_test_scaled, y_test, \"Random Forest output\"\n",
    ")"
   ]
  },
  {
   "cell_type": "markdown",
   "metadata": {},
   "source": [
    "Our orange signal dots (test set) nicely overlap with our orange signal histogram bars (training set). The same goes for the blue background. This overlap indicates that no overtaining is present. "
   ]
  },
  {
   "cell_type": "markdown",
   "metadata": {},
   "source": [
    "If overfitting were present, the dots (test set) would be very far from the bars (training set). Look back to the figure in the Overfitting section of the Mathematical Foundations lesson for a brief explanation. Overfitting might look something like this\n",
    "\n",
    "<img src=\"Screenshot 2022-10-17 185156.png\" style=\"width:600px;height:400px;\">\n"
   ]
  },
  {
   "cell_type": "markdown",
   "metadata": {},
   "source": [
    "## Alternative Metrics"
   ]
  },
  {
   "cell_type": "markdown",
   "metadata": {},
   "source": [
    "As seen in the previous section, accuracy is typically not the preferred metric for classifiers. In this section we will define some new metrics. Let TP, FP, TN, FN be the number of true positives, false positives, true negatives, and false negatives classified using a given model. Note that in this terminology, a background event is considered negative while a signal event is considered positive.\n",
    "\n",
    "TP: Signal events correctly identified as signal events\n",
    "FP: Background events incorrectly identified as signal events\n",
    "TN: Background events correctly identified as background events\n",
    "FN: Signal events incorrectly identified as background events\n",
    "Before getting into these metrics, it is important to note that a machine learning binary classifier is capable of providing a probability that a given instance corresponds to a signal or background (i.e. it would output [0.2, 0.8] where the first index corresponds to background and the second index as signal)."
   ]
  },
  {
   "cell_type": "markdown",
   "metadata": {},
   "source": [
    "It is then up to a human user to specify the probability threshold at which something is classified as a signal. For example, you may want the second index to be greater than 0.999 to classify something as a signal. As such, the TP, FP, TN and FN can be altered for a given machine learning classifier based on the threshold requirement for classifying something as a signal event."
   ]
  },
  {
   "cell_type": "markdown",
   "metadata": {},
   "source": [
    "## Precision"
   ]
  },
  {
   "cell_type": "markdown",
   "metadata": {},
   "source": [
    "Precision is defined as\n",
    "\n",
    "precision= TP/(TP+FP)\n",
    "\n",
    "It is the ratio of all things that were correctly classified as positive to all things that were classified as positive. Precision itself is an imperfect metric: a trivial way to have perfect precision is to make one single positive prediction and ensure it is correct (1/1=100%) but this would not be useful. This is equivalent to having a very high threshold. As such, precision is typically combined with another metric: recall."
   ]
  },
  {
   "cell_type": "markdown",
   "metadata": {},
   "source": [
    "## Recall (True Positive Rate)"
   ]
  },
  {
   "cell_type": "markdown",
   "metadata": {},
   "source": [
    "Recall is defined as\n",
    "\n",
    "recall= TP/(TP+FN)\n",
    "\n",
    "It is the ratio of all things that were correctly classified as positive to all things that should have been classified as positive. Recall itself is also an imperfect metric: a trivial way to have perfect recall is to classify everything as positive; doing so, however, would result in a poor precision score. This is equivalent to having a very low threshold. As such, precision and recall need to be considered together."
   ]
  },
  {
   "cell_type": "markdown",
   "metadata": {},
   "source": [
    "##  F1 score"
   ]
  },
  {
   "cell_type": "markdown",
   "metadata": {},
   "source": [
    "The F1 score can be interpreted as a harmonic mean of the precision and recall, where an F1 score reaches its best value at 1 and worst score at 0. The relative contribution of precision and recall to the F1 score are equal. The formula for the F1 score is:"
   ]
  },
  {
   "cell_type": "markdown",
   "metadata": {},
   "source": [
    "F1 = 2 * (precision * recall) / (precision + recall)"
   ]
  },
  {
   "cell_type": "markdown",
   "metadata": {},
   "source": [
    "## Accuracy"
   ]
  },
  {
   "cell_type": "markdown",
   "metadata": {},
   "source": [
    "Model accuracy is a machine learning classification model performance metric that is defined as the ratio of true positives and true negatives to all positive and negative observations. In other words, accuracy tells us how often we can expect our machine learning model will correctly predict an outcome out of the total number of times it made predictions. For example: Let’s assume that you were testing your machine learning model with a dataset of 100 records and that your machine learning model predicted all 90 of those instances correctly. The accuracy metric, in this case, would be: (90/100) = 90%. The accuracy rate is great but it doesn’t tell us anything about the errors our machine learning models make on new data we haven’t seen before."
   ]
  },
  {
   "cell_type": "markdown",
   "metadata": {},
   "source": [
    "Mathematically, it represents the ratio of the sum of true positive and true negatives out of all the predictions."
   ]
  },
  {
   "cell_type": "markdown",
   "metadata": {},
   "source": [
    "Accuracy Score = (TP + TN)/ (TP + FN + TN + FP)"
   ]
  },
  {
   "cell_type": "code",
   "execution_count": 24,
   "metadata": {},
   "outputs": [
    {
     "name": "stdout",
     "output_type": "stream",
     "text": [
      "              precision    recall  f1-score   support\n",
      "\n",
      "  background       0.88      0.89      0.88    172891\n",
      "      signal       0.62      0.59      0.60     53294\n",
      "\n",
      "    accuracy                           0.82    226185\n",
      "   macro avg       0.75      0.74      0.74    226185\n",
      "weighted avg       0.81      0.82      0.82    226185\n",
      "\n"
     ]
    }
   ],
   "source": [
    "from sklearn.metrics import classification_report, roc_auc_score\n",
    "\n",
    "# Random Forest Report\n",
    "print(classification_report(y_test, y_pred_RF, target_names=[\"background\", \"signal\"]))"
   ]
  },
  {
   "cell_type": "markdown",
   "metadata": {},
   "source": [
    "## Confusion Matrix"
   ]
  },
  {
   "cell_type": "code",
   "execution_count": 25,
   "metadata": {},
   "outputs": [
    {
     "data": {
      "text/plain": [
       "array([[153321,  19570],\n",
       "       [ 21896,  31398]], dtype=int64)"
      ]
     },
     "execution_count": 25,
     "metadata": {},
     "output_type": "execute_result"
    }
   ],
   "source": [
    "from sklearn.metrics import confusion_matrix\n",
    " \n",
    "cm = confusion_matrix(y_test,y_pred_RF)\n",
    "cm"
   ]
  },
  {
   "cell_type": "code",
   "execution_count": 26,
   "metadata": {},
   "outputs": [
    {
     "data": {
      "text/plain": [
       "<AxesSubplot:>"
      ]
     },
     "execution_count": 26,
     "metadata": {},
     "output_type": "execute_result"
    },
    {
     "data": {
      "image/png": "[encoded data removed]",
      "text/plain": [
       "<Figure size 640x480 with 2 Axes>"
      ]
     },
     "metadata": {},
     "output_type": "display_data"
    }
   ],
   "source": [
    "import seaborn as sns\n",
    "group_names = ['True Neg','False Pos','False Neg','True Pos']\n",
    "group_counts = [\"{0:0.0f}\".format(value) for value in\n",
    "                cm.flatten()]\n",
    "#group_percentages = [“{0:.2%}”.format(value) for value in\n",
    "#                     cf_matrix.flatten()/np.sum(cf_matrix)]\n",
    "labels = [f\"{v1}\\n{v2}\" for v1, v2 in\n",
    "          zip(group_names,\n",
    "          group_counts\n",
    "          #group_percentages\n",
    "          )\n",
    "          ]\n",
    "labels = np.asarray(labels).reshape(2,2)\n",
    "sns.heatmap(cm, annot=labels, fmt='', cmap='Blues')"
   ]
  },
  {
   "cell_type": "markdown",
   "metadata": {},
   "source": [
    "Let’s get the decisions of the random forest classifier."
   ]
  },
  {
   "cell_type": "code",
   "execution_count": 27,
   "metadata": {},
   "outputs": [],
   "source": [
    "decisions_rf = RF_clf.predict_proba(X_test_scaled)[\n",
    "    :, 1\n",
    "]  # get the decisions of the random forest"
   ]
  },
  {
   "cell_type": "markdown",
   "metadata": {},
   "source": [
    "## The ROC Curve"
   ]
  },
  {
   "cell_type": "markdown",
   "metadata": {},
   "source": [
    "The Receiver Operating Characteristic (ROC) curve is a plot of the recall (or true positive rate) vs. the false positive rate: the ratio of negative instances incorrectly classified as positive. A classifier may classify many instances as positive (i.e. has a low tolerance for classifying something as positive), but in such an example it will probably also incorrectly classify many negative instances as positive as well. The false positive rate is plotted on the x-axis of the ROC curve and the true positive rate on the y-axis; the threshold is varied to give a parameteric curve. A random classifier results in a line. Before we look at the ROC curve, let’s examine the following plot"
   ]
  },
  {
   "cell_type": "code",
   "execution_count": 28,
   "metadata": {},
   "outputs": [
    {
     "data": {
      "text/plain": [
       "<matplotlib.legend.Legend at 0x2ad0de25130>"
      ]
     },
     "execution_count": 28,
     "metadata": {},
     "output_type": "execute_result"
    },
    {
     "data": {
      "image/png": "[encoded data removed]",
      "text/plain": [
       "<Figure size 640x480 with 1 Axes>"
      ]
     },
     "metadata": {},
     "output_type": "display_data"
    }
   ],
   "source": [
    "plt.hist(\n",
    "    decisions_rf[y_test == 0], histtype=\"step\", bins=50, label=\"Background Events\"\n",
    ")  # plot background\n",
    "plt.hist(\n",
    "    decisions_rf[y_test == 1],\n",
    "    histtype=\"step\",\n",
    "    bins=50,\n",
    "    linestyle=\"dashed\",\n",
    "    label=\"Signal Events\",\n",
    ")  # plot signal\n",
    "plt.xlabel(\"Threshold\")  # x-axis label\n",
    "plt.ylabel(\"Number of Events\")  # y-axis label\n",
    "plt.semilogy()  # make the y-axis semi-log\n",
    "plt.legend()  # draw the legend"
   ]
  },
  {
   "cell_type": "markdown",
   "metadata": {},
   "source": [
    "We can separate this plot into two separate histograms (Higgs vs. non Higgs) because we know beforehand which events correspond to the particular type of event. For real data where the answers aren’t provided, it will be one concatenated histogram. The game here is simple: we pick a threshold (i.e. vertical line on the plot). Once we choose that threshold, everything to the right of that vertical line is classified as a signal event, and everything to the left is classified as a background event. By moving this vertical line left and right (i.e. altering the threshold) we effectively change TP, FP, TN and FN. Hence we also change the true positive rate and the false positive rate by moving this line around."
   ]
  },
  {
   "cell_type": "code",
   "execution_count": 29,
   "metadata": {},
   "outputs": [],
   "source": [
    "from sklearn.metrics import roc_curve\n",
    "\n",
    "fpr_rf, tpr_rf, thresholds_rf = roc_curve(\n",
    "    y_test, decisions_rf\n",
    ")  # get FPRs, TPRs and thresholds for random forest"
   ]
  },
  {
   "cell_type": "markdown",
   "metadata": {},
   "source": [
    "Suppose we move the threshold from 0 to 1 in steps of 0.01. In doing so, we will get an array of TPRs and FPRs. We can then plot the TPR array vs. the FPR array: this is the ROC curve. To plot the ROC curve, we need to obtain the probabilities that something is classified as a signal (rather than the signal/background prediction itself). This can be done as follows:"
   ]
  },
  {
   "cell_type": "code",
   "execution_count": 30,
   "metadata": {},
   "outputs": [
    {
     "data": {
      "text/plain": [
       "<matplotlib.legend.Legend at 0x2ad0c6fa400>"
      ]
     },
     "execution_count": 30,
     "metadata": {},
     "output_type": "execute_result"
    },
    {
     "data": {
      "image/png": "[encoded data removed]",
      "text/plain": [
       "<Figure size 640x480 with 1 Axes>"
      ]
     },
     "metadata": {},
     "output_type": "display_data"
    }
   ],
   "source": [
    "plt.plot(fpr_rf, tpr_rf, label=\"Random Forest\")  # plot random forest ROC\n",
    "#plt.plot(\n",
    "#    fpr_nn, tpr_nn, linestyle=\"dashed\", label=\"Neural Network\"\n",
    "#)  # plot neural network ROC\n",
    "plt.plot(\n",
    "    [0, 1], [0, 1], linestyle=\"dotted\", color=\"grey\", label=\"Luck\"\n",
    ")  # plot diagonal line to indicate luck\n",
    "plt.xlabel(\"False Positive Rate\")  # x-axis label\n",
    "plt.ylabel(\"True Positive Rate\")  # y-axis label\n",
    "plt.grid()  # add a grid to the plot\n",
    "plt.legend()  # add a legend"
   ]
  },
  {
   "cell_type": "markdown",
   "metadata": {},
   "source": [
    "## Features Importance"
   ]
  },
  {
   "cell_type": "code",
   "execution_count": 45,
   "metadata": {},
   "outputs": [],
   "source": [
    "importance = RF_clf.feature_importances_\n",
    "\n",
    "df1 = pd.DataFrame (importance, columns = ['Importance'])"
   ]
  },
  {
   "cell_type": "code",
   "execution_count": 34,
   "metadata": {},
   "outputs": [],
   "source": [
    "df2 = pd.DataFrame (ML_inputs, columns = ['Attributes'])"
   ]
  },
  {
   "cell_type": "code",
   "execution_count": 37,
   "metadata": {},
   "outputs": [
    {
     "name": "stdout",
     "output_type": "stream",
     "text": [
      "['lep_pt_1', 'lep_pt_2']\n"
     ]
    }
   ],
   "source": [
    "print(ML_inputs)"
   ]
  },
  {
   "cell_type": "code",
   "execution_count": 39,
   "metadata": {},
   "outputs": [
    {
     "data": {
      "text/html": [
       "<div>\n",
       "<style scoped>\n",
       "    .dataframe tbody tr th:only-of-type {\n",
       "        vertical-align: middle;\n",
       "    }\n",
       "\n",
       "    .dataframe tbody tr th {\n",
       "        vertical-align: top;\n",
       "    }\n",
       "\n",
       "    .dataframe thead th {\n",
       "        text-align: right;\n",
       "    }\n",
       "</style>\n",
       "<table border=\"1\" class=\"dataframe\">\n",
       "  <thead>\n",
       "    <tr style=\"text-align: right;\">\n",
       "      <th></th>\n",
       "      <th>Importance</th>\n",
       "      <th>Attributes</th>\n",
       "    </tr>\n",
       "  </thead>\n",
       "  <tbody>\n",
       "    <tr>\n",
       "      <th>0</th>\n",
       "      <td>0.497929</td>\n",
       "      <td>lep_pt_1</td>\n",
       "    </tr>\n",
       "    <tr>\n",
       "      <th>1</th>\n",
       "      <td>0.502071</td>\n",
       "      <td>lep_pt_2</td>\n",
       "    </tr>\n",
       "  </tbody>\n",
       "</table>\n",
       "</div>"
      ],
      "text/plain": [
       "   Importance Attributes\n",
       "0    0.497929   lep_pt_1\n",
       "1    0.502071   lep_pt_2"
      ]
     },
     "metadata": {},
     "output_type": "display_data"
    }
   ],
   "source": [
    "result = pd.concat([df1, df2], axis=1, join='inner')\n",
    "display(result)"
   ]
  },
  {
   "cell_type": "code",
   "execution_count": 46,
   "metadata": {},
   "outputs": [],
   "source": [
    "result = result.sort_values(by='Importance', ascending=False)"
   ]
  },
  {
   "cell_type": "code",
   "execution_count": 56,
   "metadata": {},
   "outputs": [
    {
     "data": {
      "image/png": "[encoded data removed]",
      "text/plain": [
       "<Figure size 640x480 with 1 Axes>"
      ]
     },
     "metadata": {},
     "output_type": "display_data"
    }
   ],
   "source": [
    "plt.bar(x=result['Attributes'], height=result['Importance'], color='#087E8B')\n",
    "plt.title('Feature importances obtained from coefficients', size=20)\n",
    "plt.xticks(rotation='vertical')\n",
    "plt.show()"
   ]
  }
 ],
 "metadata": {
  "kernelspec": {
   "display_name": "Python 3.9.13 ('myEnvs': conda)",
   "language": "python",
   "name": "python3"
  },
  "language_info": {
   "codemirror_mode": {
    "name": "ipython",
    "version": 3
   },
   "file_extension": ".py",
   "mimetype": "text/x-python",
   "name": "python",
   "nbconvert_exporter": "python",
   "pygments_lexer": "ipython3",
   "version": "3.9.13"
  },
  "orig_nbformat": 4,
  "vscode": {
   "interpreter": {
    "hash": "e436eaa9b3aebe90e195f7a78b399592c214c1324a86b1677d67780b9a0ce7c2"
   }
  }
 },
 "nbformat": 4,
 "nbformat_minor": 2
}
